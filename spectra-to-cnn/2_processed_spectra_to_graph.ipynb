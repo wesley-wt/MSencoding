{
 "cells": [
  {
   "cell_type": "markdown",
   "source": [
    "# Processing the spectra into a graph\n",
    "The mgf spectra is loaded into model where it is processed by ```1_spectra-preprocessing``` scripts. The processed spectra is then sent to the ```process_spectrum_Graph```.\n",
    "\n",
    "This notebook explores the behaviour of ```process_spectrum_Graph```"
   ],
   "metadata": {
    "collapsed": false
   }
  },
  {
   "cell_type": "code",
   "execution_count": 7,
   "outputs": [],
   "source": [
    "from typing import List\n",
    "import numpy as np\n",
    "from pyteomics import mass\n",
    "import re"
   ],
   "metadata": {
    "collapsed": false
   }
  },
  {
   "cell_type": "code",
   "execution_count": 8,
   "outputs": [],
   "source": [
    "# config cell\n",
    "config = {\n",
    "    'max_num_peaks': 400,\n",
    "    'aa_mass_tolerance': 0.05,\n",
    "}\n",
    "vocab_reverse = ['A',\n",
    "                 'R',\n",
    "                 'N',\n",
    "                 'Nmod',\n",
    "                 'D',\n",
    "                 # 'C',\n",
    "                 'Cmod',\n",
    "                 'E',\n",
    "                 'Q',\n",
    "                 'Qmod',\n",
    "                 'G',\n",
    "                 'H',\n",
    "                 'I',\n",
    "                 'L',\n",
    "                 'K',\n",
    "                 'M',\n",
    "                 'Mmod',\n",
    "                 'F',\n",
    "                 'P',\n",
    "                 'S',\n",
    "                 'T',\n",
    "                 'W',\n",
    "                 'Y',\n",
    "                 'V',\n",
    "                 ]\n",
    "mass_H = 1.0078\n",
    "mass_H2O = 18.0106\n",
    "mass_NH3 = 17.0265\n",
    "mass_N_terminus = 1.0078\n",
    "mass_C_terminus = 17.0027\n",
    "mass_CO = 27.9949\n",
    "mass_AA = {'_PAD': 0.0,\n",
    "           '_GO': mass_N_terminus - mass_H,\n",
    "           '_EOS': mass_C_terminus + mass_H,\n",
    "           'A': 71.03711,  # 0\n",
    "           'R': 156.10111,  # 1\n",
    "           'N': 114.04293,  # 2\n",
    "           'Nmod': 115.02695,\n",
    "           'D': 115.02694,  # 3\n",
    "           # 'C': 103.00919, # 4\n",
    "           'Cmod': 160.03065,  # C(+57.02)\n",
    "           # ~ 'Cmod':161.01919, # C(+58.01) # orbi\n",
    "           'E': 129.04259,  # 5\n",
    "           'Q': 128.05858,  # 6\n",
    "           'Qmod': 129.0426,\n",
    "           'G': 57.02146,  # 7\n",
    "           'H': 137.05891,  # 8\n",
    "           'I': 113.08406,  # 9\n",
    "           'L': 113.08406,  # 10\n",
    "           'K': 128.09496,  # 11\n",
    "           'M': 131.04049,  # 12\n",
    "           'Mmod': 147.0354,\n",
    "           'F': 147.06841,  # 13\n",
    "           'P': 97.05276,  # 14\n",
    "           'S': 87.03203,  # 15\n",
    "           'T': 101.04768,  # 16\n",
    "           'W': 186.07931,  # 17\n",
    "           'Y': 163.06333,  # 18\n",
    "           'V': 99.06841,  # 19\n",
    "           }"
   ],
   "metadata": {
    "collapsed": false
   }
  },
  {
   "cell_type": "code",
   "execution_count": null,
   "outputs": [],
   "source": [
    "def process_spectrum_graph(spectrum: List):\n",
    "    \"\"\"\n",
    "    This function takes in the process mass spectrum dataset\n",
    "\n",
    "    Parameters:\n",
    "\n",
    "\n",
    "    \"\"\"\n",
    "\n",
    "    scan, peptide_ids, spectrum_mz, spectrum_intensity, peptide_mass, pep_charge = spectrum\n",
    "\n",
    "    max_num_peaks = config['max_num_peaks']\n",
    "\n",
    "    aa_edge_precision = config['aa_mass_tolerance'] # the range around the mass we should look\n",
    "\n",
    "    mp = peptide_mass\n",
    "\n",
    "    spectrum_intensity = np.divide(spectrum_intensity, max(spectrum_intensity)) # normalize the intensity peaks\n",
    "\n",
    "    peaks = np.stack([spectrum_mz, spectrum_intensity], axis=1)\n",
    "    #np.stack joins two arrays at the specified axis.\n",
    "    # In this case we are joining the arrays so that they form spectrum_mz-spectrum_intensity pairs. In the same way zip works\n",
    "\n",
    "    b_or_y, diffs = match_peaks(peptide_ids=peptide_ids,\n",
    "                                spectrum_mz=spectrum_mz,\n",
    "                                tolerance=aa_edge_precision)\n",
    "\n"
   ],
   "metadata": {
    "collapsed": false
   }
  },
  {
   "cell_type": "markdown",
   "source": [
    "The b and y ions and their mass differences is calculated with the ```match_peaks``` function that takes in the peptide sequence in the form of their vocab ids, the spectrum_mz and the tolerance and matches the peptides to the spectrum_mz.\n",
    "\n",
    "The functions ```fragments_mgf``` create theoretical fragments from the peptide sequence."
   ],
   "metadata": {
    "collapsed": false
   }
  },
  {
   "cell_type": "code",
   "execution_count": null,
   "outputs": [],
   "source": [
    "def match_peaks(peptide_ids, spectrum_mz, tolerance, _8ions=False):\n",
    "    \"\"\"\n",
    "    Matching the peaks of the mass spectrum to the peptide sequence\n",
    "\n",
    "    \"\"\"\n",
    "    peptide_str = [vocab_reverse[i] for i in peptide_ids] # the peptide is converted back to string\n",
    "    # these functions create theoretical fragments\n",
    "    if _8ions: # not sure what are _8ions\n",
    "        true_peaks, tp_ions, tp_frags = fragments_mgf_8ion(peptide=peptide_str)\n",
    "    else:\n",
    "        true_peaks, tp_ions, tp_frags = fragments_mgf(peptide=peptide_str)\n",
    "\n",
    "    # we now match the peaks in the spectra to the theoretical peaks\n",
    "    matched_peaks = []\n",
    "    matched_diffs = []\n",
    "    # for each mass in the spectrum within_tol finds the true_peak that finds the difference\n",
    "    for mz in spectrum_mz:\n",
    "        log_diff = within_tol(mz, true_peaks, rtol=0, atol=tolerance)\n",
    "\n",
    "        if np.any(log_diff[..., 0]):\n",
    "            closest_idx = np.argmin(np.log_diff[...,1])\n",
    "\n",
    "\n",
    "\n",
    "\n",
    "\n",
    "\n"
   ],
   "metadata": {
    "collapsed": false
   }
  },
  {
   "cell_type": "markdown",
   "source": [
    "## Fragments_MGF function\n",
    "This function creates theoretical fragments of a given peptide sequence and calculates their masses. The code as a whole is given in the following cells, followed by the breakdown what each section of the code does."
   ],
   "metadata": {
    "collapsed": false
   }
  },
  {
   "cell_type": "code",
   "execution_count": 9,
   "outputs": [],
   "source": [
    "def fragments_mgf(peptide: str,types=(\"b\",\"y\"), max_charge=1, ion_loss=False):\n",
    "    \"\"\"\n",
    "    This function creates theoretical fragments from the peptide sequence of types 'types' and of charges from 1 to max_charge.\n",
    "\n",
    "    Parameters:\n",
    "    peptide: str\n",
    "        The peptide sequence in the form of a string\n",
    "    types: tuple\n",
    "        The types of fragments to be created. Default is (\"b\",\"y\")\n",
    "    max_charge: int\n",
    "    ion_loss: bool\n",
    "        If True, the function will also return the ion losses of the fragments\n",
    "    \"\"\"\n",
    "    peptide = \"\".join(peptide) # converts peptide list to string\n",
    "\n",
    "    peaks = []\n",
    "    ions = []\n",
    "    frags = []\n",
    "    pep_len = len(peptide)\n",
    "\n",
    "    for i in range(1, pep_len):\n",
    "        for ion_type in types:\n",
    "            for charge in range(1, max_charge+1):\n",
    "                if ion_type[0] in 'abc':\n",
    "                    peaks.append(mass.fast_mass(peptide[:1], ion_type=ion_type, charge=charge)) # from a peptide sequence the mass for each peptide subsequence is calculated with fast_mass. Giving the mass of each theoretical fragment.\n",
    "                    ions.append(ion_type+str(i)+(\"+\"+str(charge) if max_charge > 1 else \"\"))\n",
    "                    frags.append(\"\".join(peptide[:i]))\n",
    "                else:\n",
    "                    peaks.append((sum([mass_AA[j] for j in peptide[i:]]) +\n",
    "                                  mass_C_terminus+\n",
    "                                  mass_N_terminus+\n",
    "                                  (charge*mass_H)+\n",
    "                                  mass.calculate_mass(\n",
    "                                      mass.std_ion_comp[ion_type]\n",
    "                                  )) /charge)\n",
    "                    ions.append(ion_type+str(pep_len-i)+ (\"+\"+str(charge) if max_charge > 1 else \"\"))\n",
    "                    frags.append(\"\".join(peptide[i:]))\n",
    "    frags = [str(i) for i in frags]\n",
    "\n",
    "    if max_charge>1:\n",
    "        order = sorted(range(len(ions)),key=lambda x: (ions[x][0],re.findall(\"(?:\\d+)(\\_|\\*)*\",ions[x])[0],int(re.search(\"(\\d+)\",ions[x])[0]),int(re.findall(\"(\\d+)\",ions[x])[1])))\n",
    "    else:\n",
    "        order = sorted(range(len(ions)),key=lambda x: (ions[x][0],re.findall(\"(?:\\d+)(\\_|\\*)*\",ions[x])[0],int(re.search(\"(\\d+)\",ions[x])[0])))\n",
    "\n",
    "    peaks = list(np.array(peaks)[order])\n",
    "    ions = list(np.array(ions)[order])\n",
    "    frags = list(np.array(frags)[order])\n",
    "\n",
    "    if ion_loss:\n",
    "        df = ionLoss([peaks, ions, frags])\n",
    "    else:\n",
    "        df = [peaks, ions, frags]\n",
    "    return df\n",
    "\n",
    "atomic_mass = {\"H\":1.007825,\n",
    "               \"C\":12.000000,\n",
    "               \"N\":14.003074,\n",
    "               \"O\":15.994915,\n",
    "               \"P\":1.007276}\n",
    "\n",
    "add =    {\"a\":-(atomic_mass[\"C\"]+atomic_mass[\"O\"]),\n",
    "           \"b\":0,\n",
    "           \"c\":atomic_mass[\"N\"]+3*atomic_mass[\"H\"],\n",
    "           \"x\":atomic_mass[\"C\"]+2*atomic_mass[\"O\"],\n",
    "           \"y\":2*atomic_mass[\"H\"]+atomic_mass[\"O\"],\n",
    "           \"z\":-(atomic_mass[\"N\"]+atomic_mass[\"H\"])+atomic_mass[\"O\"],\n",
    "           \"water\":2*atomic_mass[\"H\"]+atomic_mass[\"O\"],\n",
    "           \"ammonia\":atomic_mass[\"N\"]+ 3*atomic_mass[\"H\"]}\n",
    "\n",
    "def ionLoss(df,\n",
    "            water=None,\n",
    "            ammonia=None):\n",
    "\n",
    "    if ammonia is None:\n",
    "        ammonia = [\"K\", \"N\", \"Q\", \"R\"]\n",
    "    if water is None:\n",
    "        water = [\"Cterm\", \"D\", \"E\", \"S\", \"T\"]\n",
    "    assert len(df[0])==len(df[1])\n",
    "    assert len(df[1])==len(df[2])\n",
    "\n",
    "    rules = {\"D\":\"^D.\",\"E\":\"^E.\",\"S\":\".S.\",\"T\":\".T.\"}\n",
    "    rules = [rules[i] for i in {\"D\", \"E\", \"S\", \"T\"}.intersection(water)]\n",
    "    wmatch = [re.match(\"|\".join(rules),i) for i in df[2]]\n",
    "    widx = [i for i in range(len(wmatch)) if wmatch[i] != None]\n",
    "    CtermIdx = [i for i in range(len(df[1])) if df[1][i][0] in \"xyz\"]\n",
    "    widx = list(set(widx + CtermIdx))\n",
    "\n",
    "    rules = {\"K\":\"^.*K.\", \"N\":\"^.*N.\", \"Q\":\"^.*Q.\", \"R\":\".R.\"}\n",
    "    rules = [rules[i] for i in {\"K\", \"N\", \"Q\", \"R\"}.intersection(ammonia)]\n",
    "    amatch = [re.match(\"|\".join(rules),i) for i in df[2]]\n",
    "    aidx = [i for i in range(len(amatch)) if amatch[i] != None]\n",
    "\n",
    "    df = remove_mol(df,widx,add[\"water\"],ion=\"_\")\n",
    "    df = remove_mol(df,aidx,add[\"ammonia\"],ion=\"*\")\n",
    "\n",
    "    return df\n",
    "\n",
    "def remove_mol(df,idx,mass,ion):\n",
    "    df = df[:]\n",
    "\n",
    "    df_ion = [[df[j][i] for i in idx] for j in range(len(df))]\n",
    "\n",
    "    df_ion[0] = [i-mass for i in df_ion[0]]\n",
    "    df_ion[1] = [i+ion for i in df_ion[1]]\n",
    "    for i in range(len(df)):\n",
    "        df[i]+=df_ion[i]\n",
    "    return df"
   ],
   "metadata": {
    "collapsed": false
   }
  },
  {
   "cell_type": "code",
   "execution_count": 10,
   "outputs": [
    {
     "data": {
      "text/plain": "[[98.06004031562,\n  98.06004031562,\n  98.06004031562,\n  98.06004031562,\n  98.06004031562,\n  98.06004031562,\n  148.06089,\n  263.08782999999994,\n  376.17188999999996,\n  477.21957,\n  574.2723299999999,\n  703.3149199999999],\n ['b1', 'b2', 'b3', 'b4', 'b5', 'b6', 'y1', 'y2', 'y3', 'y4', 'y5', 'y6'],\n ['P',\n  'PE',\n  'PEP',\n  'PEPT',\n  'PEPTI',\n  'PEPTID',\n  'E',\n  'DE',\n  'IDE',\n  'TIDE',\n  'PTIDE',\n  'EPTIDE']]"
     },
     "execution_count": 10,
     "metadata": {},
     "output_type": "execute_result"
    }
   ],
   "source": [
    "fragments_mgf('PEPTIDE')"
   ],
   "metadata": {
    "collapsed": false
   }
  },
  {
   "cell_type": "markdown",
   "source": [
    "1. The function takes as a parameter the 'PEPTIDE' if its a list it converts it to a string."
   ],
   "metadata": {
    "collapsed": false
   }
  },
  {
   "cell_type": "code",
   "execution_count": 16,
   "outputs": [
    {
     "name": "stdout",
     "output_type": "stream",
     "text": [
      "['P', 'E', 'P', 'T', 'I', 'D', 'E']\n"
     ]
    },
    {
     "data": {
      "text/plain": "'PEPTIDE'"
     },
     "execution_count": 16,
     "metadata": {},
     "output_type": "execute_result"
    }
   ],
   "source": [
    "peptide = 'PEPTIDE'\n",
    "peptide = list(peptide)\n",
    "print(peptide)\n",
    "peptide = \"\".join(peptide)\n",
    "peptide"
   ],
   "metadata": {
    "collapsed": false
   }
  },
  {
   "cell_type": "code",
   "execution_count": 15,
   "outputs": [
    {
     "data": {
      "text/plain": "['PEPTIDE']"
     },
     "execution_count": 15,
     "metadata": {},
     "output_type": "execute_result"
    }
   ],
   "source": [
    "peaks = []\n",
    "ions = []\n",
    "frags = []\n",
    "types = (\"b\", \"y\")\n",
    "max_charge = 1\n",
    "pep_len = len(peptide)\n",
    "\n",
    "for i in range(1, pep_len):\n",
    "    for ion_type in types:\n",
    "        for charge in range(1, max_charge+1):\n",
    "            if ion_type[0] in 'abc':\n",
    "                peaks.append(mass.fast_mass(peptide[:1], ion_type=ion_type, charge=charge)) # from a peptide sequence the mass for each peptide subsequence is calculated with fast_mass. Giving the mass of each theoretical fragment.\n",
    "                ions.append(ion_type+str(i)+(\"+\"+str(charge) if max_charge > 1 else \"\"))\n",
    "                frags.append(\"\".join(peptide[:i]))\n",
    "            else:\n",
    "                peaks.append((sum([mass_AA[j] for j in peptide[i:]]) +\n",
    "                              mass_C_terminus+\n",
    "                              mass_N_terminus+\n",
    "                              (charge*mass_H)+\n",
    "                              mass.calculate_mass(\n",
    "                                  mass.std_ion_comp[ion_type]\n",
    "                              )) /charge)\n",
    "                ions.append(ion_type+str(pep_len-i)+ (\"+\"+str(charge) if max_charge > 1 else \"\"))\n",
    "                frags.append(\"\".join(peptide[i:]))"
   ],
   "metadata": {
    "collapsed": false
   }
  },
  {
   "cell_type": "code",
   "execution_count": null,
   "outputs": [],
   "source": [],
   "metadata": {
    "collapsed": false
   }
  }
 ],
 "metadata": {
  "kernelspec": {
   "display_name": "Python 3",
   "language": "python",
   "name": "python3"
  },
  "language_info": {
   "codemirror_mode": {
    "name": "ipython",
    "version": 2
   },
   "file_extension": ".py",
   "mimetype": "text/x-python",
   "name": "python",
   "nbconvert_exporter": "python",
   "pygments_lexer": "ipython2",
   "version": "2.7.6"
  }
 },
 "nbformat": 4,
 "nbformat_minor": 0
}
