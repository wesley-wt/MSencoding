{
 "cells": [
  {
   "cell_type": "markdown",
   "source": [
    "# Processing the spectra into a graph\n",
    "The mgf spectra is loaded into model where it is processed by ```1_spectra-preprocessing``` scripts. The processed spectra is then sent to the ```process_spectrum_Graph```.\n",
    "\n",
    "This notebook explores the behaviour of ```process_spectrum_Graph```"
   ],
   "metadata": {
    "collapsed": false
   }
  },
  {
   "cell_type": "code",
   "execution_count": null,
   "outputs": [],
   "source": [
    "from typing import List\n",
    "import numpy as np"
   ],
   "metadata": {
    "collapsed": false
   }
  },
  {
   "cell_type": "code",
   "execution_count": null,
   "outputs": [],
   "source": [
    "# config cell\n",
    "config = {\n",
    "    'max_num_peaks': 400,\n",
    "    'aa_mass_tolerance': 0.05,\n",
    "}\n",
    "vocab_reverse = ['A',\n",
    "                 'R',\n",
    "                 'N',\n",
    "                 'Nmod',\n",
    "                 'D',\n",
    "                 # 'C',\n",
    "                 'Cmod',\n",
    "                 'E',\n",
    "                 'Q',\n",
    "                 'Qmod',\n",
    "                 'G',\n",
    "                 'H',\n",
    "                 'I',\n",
    "                 'L',\n",
    "                 'K',\n",
    "                 'M',\n",
    "                 'Mmod',\n",
    "                 'F',\n",
    "                 'P',\n",
    "                 'S',\n",
    "                 'T',\n",
    "                 'W',\n",
    "                 'Y',\n",
    "                 'V',\n",
    "                 ]"
   ],
   "metadata": {
    "collapsed": false
   }
  },
  {
   "cell_type": "code",
   "execution_count": null,
   "outputs": [],
   "source": [
    "def process_spectrum_graph(spectrum: List):\n",
    "    \"\"\"\n",
    "    This function takes in the process mass spectrum dataset\n",
    "\n",
    "    Parameters:\n",
    "\n",
    "\n",
    "    \"\"\"\n",
    "\n",
    "    scan, peptide_ids, spectrum_mz, spectrum_intensity, peptide_mass, pep_charge = spectrum\n",
    "\n",
    "    max_num_peaks = config['max_num_peaks']\n",
    "\n",
    "    aa_edge_precision = config['aa_mass_tolerance'] # the range around the mass we should look\n",
    "\n",
    "    mp = peptide_mass\n",
    "\n",
    "    spectrum_intensity = np.divide(spectrum_intensity, max(spectrum_intensity)) # normalize the intensity peaks\n",
    "\n",
    "    peaks = np.stack([spectrum_mz, spectrum_intensity], axis=1)\n",
    "    #np.stack joins two arrays at the specified axis.\n",
    "    # In this case we are joining the arrays so that they form spectrum_mz-spectrum_intensity pairs. In the same way zip works\n",
    "\n",
    "    b_or_y, diffs = match_peaks(peptide_ids=peptide_ids,\n",
    "                                spectrum_mz=spectrum_mz,\n",
    "                                tolerance=aa_edge_precision)\n",
    "\n"
   ],
   "metadata": {
    "collapsed": false
   }
  },
  {
   "cell_type": "markdown",
   "source": [
    "The b and y ions and their mass differences is calculated with the ```match_peaks``` function that takes in the peptide sequence in the form of their vocab ids, the spectrum_mz and the tolerance and matches the peptides to the spectrum_mz.\n",
    "\n",
    "The functions ```fragments_mgf``` create theoretical fragments from the peptide sequence."
   ],
   "metadata": {
    "collapsed": false
   }
  },
  {
   "cell_type": "code",
   "execution_count": null,
   "outputs": [],
   "source": [
    "def match_peaks(peptide_ids, spectrum_mz, tolerance, _8ions=False):\n",
    "    \"\"\"\n",
    "    Matching the peaks of the mass spectrum to the peptide sequence\n",
    "\n",
    "    \"\"\"\n",
    "    peptide_str = [vocab_reverse[i] for i in peptide_ids] # the peptide is converted back to string\n",
    "    # these functions create theoretical fragments\n",
    "    if _8ions: # not sure what are _8ions\n",
    "        true_peaks, tp_ions, tp_frags = fragments_mgf_8ion(peptide=peptide_str)\n",
    "    else:\n",
    "        true_peaks, tp_ions, tp_frags = fragments_mgf(peptide=peptide_str)\n",
    "\n",
    "    # we now match the peaks in the spectra to the theoretical peaks\n",
    "    matched_peaks = []\n",
    "    matched_diffs = []\n",
    "    # for each mass in the spectrum within_tol finds the true_peak that finds the difference\n",
    "    for mz in spectrum_mz:\n",
    "        log_diff = within_tol(mz, true_peaks, rtol=0, atol=tolerance)\n",
    "\n",
    "        if np.any(log_diff[..., 0]):\n",
    "            closest_idx = np.argmin(np.log_diff[...,1])\n",
    "\n",
    "\n"
   ],
   "metadata": {
    "collapsed": false
   }
  }
 ],
 "metadata": {
  "kernelspec": {
   "display_name": "Python 3",
   "language": "python",
   "name": "python3"
  },
  "language_info": {
   "codemirror_mode": {
    "name": "ipython",
    "version": 2
   },
   "file_extension": ".py",
   "mimetype": "text/x-python",
   "name": "python",
   "nbconvert_exporter": "python",
   "pygments_lexer": "ipython2",
   "version": "2.7.6"
  }
 },
 "nbformat": 4,
 "nbformat_minor": 0
}
